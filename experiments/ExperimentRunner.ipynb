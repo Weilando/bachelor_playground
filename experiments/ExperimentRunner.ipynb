{
 "cells": [
  {
   "cell_type": "markdown",
   "metadata": {},
   "source": [
    "# Pruning-Experiment runner\n",
    "This notebook loads and runs a pruning-experiment specified in the __Specs__-section.\n",
    "Iterative magnitude pruning (IMP) and one-shot pruning (OSP) are available.\n",
    "\n",
    "## Setup\n",
    "Please uncomment and run either the cell for execution on your personal computer, or in Google Colab."
   ]
  },
  {
   "cell_type": "code",
   "execution_count": null,
   "metadata": {},
   "outputs": [],
   "source": [
    "# for clean run on personal computer, i.e. set working directory correctly\n",
    "\n",
    "#import os\n",
    "#import sys\n",
    "#nb_dir = os.path.split(os.getcwd())[0]\n",
    "#if nb_dir not in sys.path:\n",
    "#    sys.path.append(nb_dir)"
   ]
  },
  {
   "cell_type": "code",
   "execution_count": null,
   "metadata": {},
   "outputs": [],
   "source": [
    "# for clean run on Google Colab, i.e. mount Google Drive and set working directory correctly\n",
    "\n",
    "#from google.colab import drive\n",
    "#drive.mount('/content/gdrive')\n",
    "#\n",
    "#import os\n",
    "#import sys\n",
    "#path = '/content/gdrive/My Drive/bachelor_playground'\n",
    "#sys.path.append(path)\n",
    "#os.chdir(os.path.join(path, 'experiments'))"
   ]
  },
  {
   "cell_type": "code",
   "execution_count": null,
   "metadata": {},
   "outputs": [],
   "source": [
    "# for auto-reloading external modules\n",
    "# see http://stackoverflow.com/questions/1907993/autoreload-of-modules-in-ipython\n",
    "%load_ext autoreload\n",
    "%autoreload 2\n",
    "\n",
    "import torch\n",
    "from experiments import experiment_imp, experiment_specs"
   ]
  },
  {
   "cell_type": "markdown",
   "metadata": {},
   "source": [
    "## Specs"
   ]
  },
  {
   "cell_type": "code",
   "execution_count": null,
   "metadata": {},
   "outputs": [],
   "source": [
    "# Uncomment the experiment specs you want to use.\n",
    "#specs = experiment_specs.get_specs_lenet_mnist()\n",
    "#specs = experiment_specs.get_specs_conv2_cifar10()\n",
    "#specs = experiment_specs.get_specs_conv4_cifar10()\n",
    "#specs = experiment_specs.get_specs_conv6_cifar10()"
   ]
  },
  {
   "cell_type": "code",
   "execution_count": null,
   "metadata": {},
   "outputs": [],
   "source": [
    "# Do you want to use CUDA, if available?\n",
    "cuda = True"
   ]
  },
  {
   "cell_type": "code",
   "execution_count": null,
   "metadata": {},
   "outputs": [],
   "source": [
    "use_cuda = cuda and torch.cuda.is_available()\n",
    "specs.device = \"cuda:0\" if use_cuda else \"cpu\"\n",
    "specs.device_name = torch.cuda.get_device_name(0) if use_cuda else \"cpu\"\n",
    "print(specs.device_name)"
   ]
  },
  {
   "cell_type": "code",
   "execution_count": null,
   "metadata": {
    "scrolled": true
   },
   "outputs": [],
   "source": [
    "# Fine-tune specs, e.g.:\n",
    "#specs.net_count = 1\n",
    "#specs.epoch_count = 12\n",
    "#specs.prune_count = 0\n",
    "#specs.plan_fc = [100, 300, 300, 100]\n",
    "specs.verbosity = experiment_specs.VerbosityLevel.MEDIUM\n",
    "\n",
    "specs # show current specs"
   ]
  },
  {
   "cell_type": "markdown",
   "metadata": {},
   "source": [
    "## Run Experiment\n",
    "Choose either the first pair of lines to execute iterative magnitude pruning, or the second pair for one-shot pruning."
   ]
  },
  {
   "cell_type": "code",
   "execution_count": null,
   "metadata": {},
   "outputs": [],
   "source": [
    "#exp = experiment_imp.ExperimentIMP(specs)\n",
    "#specs.experiment_name = experiment_specs.ExperimentNames.IMP\n",
    "\n",
    "#exp = experiment_imp.ExperimentOSP(specs)\n",
    "#specs.experiment_name = experiment_specs.ExperimentNames.OSP\n",
    "\n",
    "exp.run_experiment()"
   ]
  }
 ],
 "metadata": {
  "kernelspec": {
   "display_name": "Python 3",
   "language": "python",
   "name": "python3"
  },
  "language_info": {
   "codemirror_mode": {
    "name": "ipython",
    "version": 3
   },
   "file_extension": ".py",
   "mimetype": "text/x-python",
   "name": "python",
   "nbconvert_exporter": "python",
   "pygments_lexer": "ipython3",
   "version": "3.8.5"
  }
 },
 "nbformat": 4,
 "nbformat_minor": 4
}
