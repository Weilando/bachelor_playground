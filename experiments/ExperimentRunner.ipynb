{
 "cells": [
  {
   "cell_type": "markdown",
   "metadata": {},
   "source": [
    "# Experiment runner\n",
    "This notebook loads and runs the experiment specified in the __Settings__-section.\n",
    "\n",
    "## Setup\n",
    "Please uncomment and run either the cell for execution on your personal computer, or in Google Colab."
   ]
  },
  {
   "cell_type": "code",
   "execution_count": null,
   "metadata": {},
   "outputs": [],
   "source": [
    "# for clean run on personal computer, i.e. set working directory correctly\n",
    "\n",
    "#import os\n",
    "#import sys\n",
    "#nb_dir = os.path.split(os.getcwd())[0]\n",
    "#if nb_dir not in sys.path:\n",
    "#    sys.path.append(nb_dir)"
   ]
  },
  {
   "cell_type": "code",
   "execution_count": null,
   "metadata": {},
   "outputs": [],
   "source": [
    "# for clean run on Google Colab, i.e. mount Google Drive and set working directory correctly\n",
    "\n",
    "#from google.colab import drive\n",
    "#drive.mount('/content/gdrive')\n",
    "#\n",
    "#import os\n",
    "#import sys\n",
    "#path = '/content/gdrive/My Drive/bachelor_playground'\n",
    "#sys.path.append(path)\n",
    "#os.chdir(os.path.join(path, 'experiments'))"
   ]
  },
  {
   "cell_type": "code",
   "execution_count": null,
   "metadata": {},
   "outputs": [],
   "source": [
    "# for auto-reloading external modules\n",
    "# see http://stackoverflow.com/questions/1907993/autoreload-of-modules-in-ipython\n",
    "%load_ext autoreload\n",
    "%autoreload 2\n",
    "\n",
    "import torch\n",
    "from experiments import experiment_conv_cifar10, experiment_lenet_mnist, experiment_settings"
   ]
  },
  {
   "cell_type": "markdown",
   "metadata": {},
   "source": [
    "## Settings"
   ]
  },
  {
   "cell_type": "code",
   "execution_count": null,
   "metadata": {},
   "outputs": [],
   "source": [
    "# Do you want to use CUDA, if available?\n",
    "cuda = True"
   ]
  },
  {
   "cell_type": "code",
   "execution_count": null,
   "metadata": {},
   "outputs": [],
   "source": [
    "# Uncomment the experiment settings you want to use.\n",
    "#settings = experiment_settings.get_settings_lenet_mnist()\n",
    "#settings = experiment_settings.get_settings_conv2_cifar10()\n",
    "#settings = experiment_settings.get_settings_conv4_cifar10()\n",
    "#settings = experiment_settings.get_settings_conv6_cifar10()"
   ]
  },
  {
   "cell_type": "code",
   "execution_count": null,
   "metadata": {},
   "outputs": [],
   "source": [
    "use_cuda = cuda and torch.cuda.is_available()\n",
    "settings['device'] = \"cuda:0\" if use_cuda else \"cpu\"\n",
    "settings['device_name'] = torch.cuda.get_device_name(0) if use_cuda else \"cpu\"\n",
    "print(settings['device_name'])"
   ]
  },
  {
   "cell_type": "code",
   "execution_count": null,
   "metadata": {
    "scrolled": true
   },
   "outputs": [],
   "source": [
    "# Finetune settings, e.g.:\n",
    "#settings['net_count'] = 1\n",
    "#settings['epoch_count'] = 12\n",
    "#settings['prune_count'] = 0\n",
    "#settings['plan_fc'] = [100, 300, 300, 100]\n",
    "\n",
    "settings # show current settings"
   ]
  },
  {
   "cell_type": "code",
   "execution_count": null,
   "metadata": {},
   "outputs": [],
   "source": [
    "# Uncomment the experiment you want to run.\n",
    "#exp = experiment_lenet_mnist.Experiment_Lenet_MNIST(settings)\n",
    "#exp = experiment_conv_cifar10.Experiment_Conv_CIFAR10(settings)"
   ]
  },
  {
   "cell_type": "markdown",
   "metadata": {},
   "source": [
    "## Run Experiment"
   ]
  },
  {
   "cell_type": "code",
   "execution_count": null,
   "metadata": {},
   "outputs": [],
   "source": [
    "exp.run_experiment()"
   ]
  }
 ],
 "metadata": {
  "kernelspec": {
   "display_name": "Python 3",
   "language": "python",
   "name": "python3"
  },
  "language_info": {
   "codemirror_mode": {
    "name": "ipython",
    "version": 3
   },
   "file_extension": ".py",
   "mimetype": "text/x-python",
   "name": "python",
   "nbconvert_exporter": "python",
   "pygments_lexer": "ipython3",
   "version": "3.8.3"
  }
 },
 "nbformat": 4,
 "nbformat_minor": 4
}
